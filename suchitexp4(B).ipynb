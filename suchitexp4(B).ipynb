{
  "nbformat": 4,
  "nbformat_minor": 0,
  "metadata": {
    "colab": {
      "provenance": []
    },
    "kernelspec": {
      "name": "python3",
      "display_name": "Python 3"
    },
    "language_info": {
      "name": "python"
    }
  },
  "cells": [
    {
      "cell_type": "code",
      "execution_count": null,
      "metadata": {
        "id": "ZiaNJbgzNqeh"
      },
      "outputs": [],
      "source": [
        "import cv2\n",
        "import numpy as np\n",
        "import matplotlib.pyplot as plt\n",
        "\n",
        "# Load the image in grayscale\n",
        "image = cv2.imread('/content/Ganeshji (1).webp', cv2.IMREAD_GRAYSCALE)\n",
        "\n",
        "# Check if image is loaded properly\n",
        "if image is None:\n",
        "    print(\"Error: Could not load image.\")\n",
        "    exit()\n",
        "\n",
        "# Define the Roberts Cross kernels\n",
        "kernel_x = np.array([[1, 0], [0, -1]], dtype=np.float32)\n",
        "kernel_y = np.array([[0, 1], [-1, 0]], dtype=np.float32)\n",
        "\n",
        "# Apply the Roberts Cross operator using convolution\n",
        "gradient_x = cv2.filter2D(image, -1, kernel_x)\n",
        "gradient_y = cv2.filter2D(image, -1, kernel_y)\n",
        "\n",
        "# Compute the magnitude of the gradient\n",
        "gradient_magnitude = np.sqrt(gradient_x**2 + gradient_y**2)\n",
        "\n",
        "# Convert the magnitude to uint8 for display\n",
        "gradient_magnitude = np.uint8(np.absolute(gradient_magnitude))\n",
        "\n",
        "# Display the original image and gradient magnitude\n",
        "plt.figure(figsize=(10, 5))\n",
        "\n",
        "plt.subplot(1, 3, 1)\n",
        "plt.title('Original Image')\n",
        "plt.imshow(image, cmap='gray')\n",
        "\n",
        "plt.subplot(1, 3, 2)\n",
        "plt.title('Gradient in X direction (Roberts)')\n",
        "plt.imshow(gradient_x, cmap='gray')\n",
        "\n",
        "plt.subplot(1, 3, 3)\n",
        "plt.title('Gradient Magnitude (Roberts)')\n",
        "plt.imshow(gradient_magnitude, cmap='gray')\n",
        "\n",
        "plt.show()"
      ]
    }
  ]
}